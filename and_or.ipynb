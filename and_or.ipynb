{
 "cells": [
  {
   "cell_type": "code",
   "execution_count": 1,
   "metadata": {
    "collapsed": true,
    "deletable": true,
    "editable": true
   },
   "outputs": [],
   "source": [
    "from __future__ import print_function\n",
    "import tensorflow as tf\n",
    "import numpy as np"
   ]
  },
  {
   "cell_type": "code",
   "execution_count": 2,
   "metadata": {
    "collapsed": true,
    "deletable": true,
    "editable": true
   },
   "outputs": [],
   "source": [
    "data_train = np.array([[0, 1],\n",
    "                       [1, 0],\n",
    "                       [0, 0],\n",
    "                       [1, 1]])\n",
    "label_train = np.array([0, 0, 0, 1])[:,None]"
   ]
  },
  {
   "cell_type": "code",
   "execution_count": 3,
   "metadata": {
    "collapsed": false,
    "deletable": true,
    "editable": true
   },
   "outputs": [],
   "source": [
    "and_graph = tf.Graph()\n",
    "num_hidden_neuron = 2\n",
    "with and_graph.as_default():\n",
    "    train_input = tf.constant(data_train, dtype=tf.float64)\n",
    "    train_label = tf.constant(label_train, dtype=tf.float64)\n",
    "    \n",
    "    # hidden layer\n",
    "    weight_hidden = tf.Variable(2*tf.random_uniform((2, num_hidden_neuron), dtype=tf.float64)-1)\n",
    "    bias_hidden = tf.Variable(tf.random_uniform((num_hidden_neuron,), dtype=tf.float64))\n",
    "    layer_hidden = tf.matmul(train_input, weight_hidden) + bias_hidden\n",
    "    activation_hidden = tf.sigmoid(layer_hidden)\n",
    "    \n",
    "    # output layer\n",
    "    weight_out = tf.Variable(2*tf.random_uniform((num_hidden_neuron, 1), dtype=tf.float64)-1)\n",
    "    bias_out = tf.Variable(tf.random_uniform((1,), dtype=tf.float64))\n",
    "    layer_out = tf.matmul(activation_hidden, weight_out) + bias_out\n",
    "    output = tf.sigmoid(layer_out)\n",
    "    \n",
    "    # loss\n",
    "    loss = tf.reduce_mean(tf.nn.sigmoid_cross_entropy_with_logits(layer_out, train_label))\n",
    "    \n",
    "    # optimizer\n",
    "    optimizer = tf.train.GradientDescentOptimizer(2.0).minimize(loss)"
   ]
  },
  {
   "cell_type": "code",
   "execution_count": 5,
   "metadata": {
    "collapsed": false,
    "deletable": true,
    "editable": true
   },
   "outputs": [
    {
     "name": "stdout",
     "output_type": "stream",
     "text": [
      "Initialize all variables\n",
      "iteration 100: 0.057754679068\n",
      "iteration 200: 0.0187826588709\n",
      "iteration 300: 0.010501316327\n",
      "iteration 400: 0.00713907679709\n",
      "iteration 500: 0.0053562367854\n",
      "iteration 600: 0.0042630356871\n",
      "iteration 700: 0.00352855956371\n",
      "iteration 800: 0.00300312527185\n",
      "iteration 900: 0.00260963353126\n",
      "iteration 1000: 0.00230450564107\n"
     ]
    }
   ],
   "source": [
    "num_iter = 1000\n",
    "with tf.Session(graph=and_graph) as session:\n",
    "    tf.global_variables_initializer().run()\n",
    "    print(\"Initialize all variables\")\n",
    "    \n",
    "    for i in range(num_iter):\n",
    "        _, l, weight_h, b_h, weight_o, b_o, out = session.run([optimizer, loss, \n",
    "                                                               weight_hidden, bias_hidden,\n",
    "                                                               weight_out, bias_out,\n",
    "                                                               output])\n",
    "        \n",
    "        if (i+1) % 100 == 0:\n",
    "            print(\"iteration {}: {}\".format(i+1, l))"
   ]
  },
  {
   "cell_type": "code",
   "execution_count": 6,
   "metadata": {
    "collapsed": false,
    "deletable": true,
    "editable": true
   },
   "outputs": [
    {
     "data": {
      "text/plain": [
       "array([[  1.72241909e-03],\n",
       "       [  1.67208144e-03],\n",
       "       [  7.03881503e-05],\n",
       "       [  9.94266254e-01]])"
      ]
     },
     "execution_count": 6,
     "metadata": {},
     "output_type": "execute_result"
    }
   ],
   "source": [
    "out"
   ]
  },
  {
   "cell_type": "code",
   "execution_count": 7,
   "metadata": {
    "collapsed": false,
    "deletable": true,
    "editable": true
   },
   "outputs": [
    {
     "data": {
      "text/plain": [
       "array([[-2.86219512, -4.66395069],\n",
       "       [-2.99103929, -4.56567359]])"
      ]
     },
     "execution_count": 7,
     "metadata": {},
     "output_type": "execute_result"
    }
   ],
   "source": [
    "weight_h"
   ]
  },
  {
   "cell_type": "code",
   "execution_count": 8,
   "metadata": {
    "collapsed": false,
    "deletable": true,
    "editable": true
   },
   "outputs": [
    {
     "data": {
      "text/plain": [
       "array([[ -5.57279534],\n",
       "       [-10.43150362]])"
      ]
     },
     "execution_count": 8,
     "metadata": {},
     "output_type": "execute_result"
    }
   ],
   "source": [
    "weight_o"
   ]
  },
  {
   "cell_type": "code",
   "execution_count": 9,
   "metadata": {
    "collapsed": false,
    "deletable": true,
    "editable": true
   },
   "outputs": [
    {
     "data": {
      "text/plain": [
       "array([ 3.65404026,  6.37951627])"
      ]
     },
     "execution_count": 9,
     "metadata": {},
     "output_type": "execute_result"
    }
   ],
   "source": [
    "b_h"
   ]
  },
  {
   "cell_type": "code",
   "execution_count": 10,
   "metadata": {
    "collapsed": false,
    "deletable": true,
    "editable": true
   },
   "outputs": [
    {
     "data": {
      "text/plain": [
       "array([ 6.28344314])"
      ]
     },
     "execution_count": 10,
     "metadata": {},
     "output_type": "execute_result"
    }
   ],
   "source": [
    "b_o"
   ]
  },
  {
   "cell_type": "code",
   "execution_count": 11,
   "metadata": {
    "collapsed": true,
    "deletable": true,
    "editable": true
   },
   "outputs": [],
   "source": [
    "and_graph = tf.Graph()\n",
    "num_hidden_neuron = 2\n",
    "with and_graph.as_default():\n",
    "    train_input = tf.constant(data_train, dtype=tf.float64)\n",
    "    train_label = tf.constant(label_train, dtype=tf.float64)\n",
    "    \n",
    "    # hidden layer\n",
    "    weight_hidden = tf.Variable(2*tf.random_uniform((2, num_hidden_neuron), dtype=tf.float64)-1)\n",
    "    bias_hidden = tf.Variable(tf.random_uniform((num_hidden_neuron,), dtype=tf.float64))\n",
    "    layer_hidden = tf.matmul(train_input, weight_hidden) + bias_hidden\n",
    "    activation_hidden = tf.sigmoid(layer_hidden)\n",
    "    \n",
    "    # output layer\n",
    "    weight_out = tf.Variable(2*tf.random_uniform((num_hidden_neuron, 1), dtype=tf.float64)-1)\n",
    "    bias_out = tf.Variable(tf.random_uniform((1,), dtype=tf.float64))\n",
    "    layer_out = tf.matmul(activation_hidden, weight_out) + bias_out\n",
    "    output = tf.sigmoid(layer_out)\n",
    "    \n",
    "    # loss (l2 norm)\n",
    "    loss = tf.nn.l2_loss(output - train_label)\n",
    "    \n",
    "    # optimizer\n",
    "    optimizer = tf.train.GradientDescentOptimizer(0.5).minimize(loss)"
   ]
  },
  {
   "cell_type": "code",
   "execution_count": 12,
   "metadata": {
    "collapsed": false,
    "deletable": true,
    "editable": true
   },
   "outputs": [
    {
     "name": "stdout",
     "output_type": "stream",
     "text": [
      "Initialize all variables\n",
      "iteration 100: 0.259293215858\n",
      "iteration 200: 0.120622652535\n",
      "iteration 300: 0.0495504772375\n",
      "iteration 400: 0.0258149905831\n",
      "iteration 500: 0.0162681048305\n",
      "iteration 600: 0.0115070630647\n",
      "iteration 700: 0.00875426266972\n",
      "iteration 800: 0.00699432113063\n",
      "iteration 900: 0.005786159643\n",
      "iteration 1000: 0.00491206679844\n"
     ]
    }
   ],
   "source": [
    "num_iter = 1000\n",
    "with tf.Session(graph=and_graph) as session:\n",
    "    tf.global_variables_initializer().run()\n",
    "    print(\"Initialize all variables\")\n",
    "    \n",
    "    for i in range(num_iter):\n",
    "        _, l, weight_h, b_h, weight_o, b_o, out = session.run([optimizer, loss, \n",
    "                                                               weight_hidden, bias_hidden,\n",
    "                                                               weight_out, bias_out,\n",
    "                                                               output])\n",
    "        \n",
    "        if (i+1) % 100 == 0:\n",
    "            print(\"iteration {}: {}\".format(i+1, l))"
   ]
  },
  {
   "cell_type": "code",
   "execution_count": 13,
   "metadata": {
    "collapsed": false,
    "deletable": true,
    "editable": true
   },
   "outputs": [
    {
     "data": {
      "text/plain": [
       "array([[ 0.04558156],\n",
       "       [ 0.04828239],\n",
       "       [ 0.00865698],\n",
       "       [ 0.92692248]])"
      ]
     },
     "execution_count": 13,
     "metadata": {},
     "output_type": "execute_result"
    }
   ],
   "source": [
    "out"
   ]
  },
  {
   "cell_type": "code",
   "execution_count": null,
   "metadata": {
    "collapsed": true,
    "deletable": true,
    "editable": true
   },
   "outputs": [],
   "source": []
  }
 ],
 "metadata": {
  "kernelspec": {
   "display_name": "Python 2",
   "language": "python",
   "name": "python2"
  },
  "language_info": {
   "codemirror_mode": {
    "name": "ipython",
    "version": 2
   },
   "file_extension": ".py",
   "mimetype": "text/x-python",
   "name": "python",
   "nbconvert_exporter": "python",
   "pygments_lexer": "ipython2",
   "version": "2.7.13"
  }
 },
 "nbformat": 4,
 "nbformat_minor": 2
}
