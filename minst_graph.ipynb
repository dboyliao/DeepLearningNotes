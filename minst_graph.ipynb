{
 "cells": [
  {
   "cell_type": "code",
   "execution_count": 1,
   "metadata": {
    "collapsed": true,
    "deletable": true,
    "editable": true
   },
   "outputs": [],
   "source": [
    "from __future__ import print_function\n",
    "from functools import reduce\n",
    "import tensorflow as tf\n",
    "import numpy as np"
   ]
  },
  {
   "cell_type": "code",
   "execution_count": 2,
   "metadata": {
    "collapsed": true,
    "deletable": true,
    "editable": true
   },
   "outputs": [],
   "source": [
    "try:\n",
    "    import cPickle as pickle\n",
    "except ImportError:\n",
    "    import pickle"
   ]
  },
  {
   "cell_type": "code",
   "execution_count": 3,
   "metadata": {
    "collapsed": true,
    "deletable": true,
    "editable": true
   },
   "outputs": [],
   "source": [
    "notMINST_PATH = \"./HW/HW1/notMNIST.pickle\""
   ]
  },
  {
   "cell_type": "code",
   "execution_count": 4,
   "metadata": {
    "collapsed": false,
    "deletable": true,
    "editable": true
   },
   "outputs": [
    {
     "name": "stdout",
     "output_type": "stream",
     "text": [
      "train_labels: (200000,)\n",
      "valid_labels: (10000,)\n",
      "test_labels: (10000,)\n",
      "test_dataset: (10000, 28, 28)\n",
      "train_dataset: (200000, 28, 28)\n",
      "valid_dataset: (10000, 28, 28)\n"
     ]
    }
   ],
   "source": [
    "with open(notMINST_PATH) as rf:\n",
    "    data = pickle.load(rf)\n",
    "    train_labels = data[\"train_labels\"]\n",
    "    valid_labels = data[\"valid_labels\"]\n",
    "    test_labels = data[\"test_labels\"]\n",
    "    train_dataset = data[\"train_dataset\"]\n",
    "    valid_dataset = data[\"valid_dataset\"]\n",
    "    test_dataset = data['test_dataset']\n",
    "    for k, v in data.items():\n",
    "        print(\"{}: {}\".format(k, v.shape))\n",
    "    del data"
   ]
  },
  {
   "cell_type": "code",
   "execution_count": 5,
   "metadata": {
    "collapsed": true,
    "deletable": true,
    "editable": true
   },
   "outputs": [],
   "source": [
    "graph_notMINST = tf.Graph()"
   ]
  },
  {
   "cell_type": "code",
   "execution_count": 6,
   "metadata": {
    "collapsed": true
   },
   "outputs": [],
   "source": [
    "def one_hot(arr, num_class=10, dtype=np.float32):\n",
    "    return (np.arange(num_class) == arr[:,None]).astype(dtype)"
   ]
  },
  {
   "cell_type": "code",
   "execution_count": 7,
   "metadata": {
    "collapsed": true,
    "deletable": true,
    "editable": true
   },
   "outputs": [],
   "source": [
    "num_input_pixels = reduce(lambda acc, x: acc*x, train_dataset.shape[1:])"
   ]
  },
  {
   "cell_type": "code",
   "execution_count": 8,
   "metadata": {
    "collapsed": true
   },
   "outputs": [],
   "source": [
    "train_dataset = train_dataset.reshape((-1, num_input_pixels))\n",
    "test_dataset = test_dataset.reshape((-1, num_input_pixels))\n",
    "valid_dataset = valid_dataset.reshape((-1, num_input_pixels))\n",
    "train_labels = one_hot(train_labels)\n",
    "test_labels = one_hot(test_labels)\n",
    "valid_labels = one_hot(valid_labels)"
   ]
  },
  {
   "cell_type": "code",
   "execution_count": 44,
   "metadata": {
    "collapsed": false,
    "deletable": true,
    "editable": true
   },
   "outputs": [],
   "source": [
    "mini_batch_size = 3000\n",
    "num_class = 10\n",
    "with graph_notMINST.as_default():\n",
    "    \n",
    "    tf_input_layer = tf.placeholder(dtype=tf.float32, shape=(mini_batch_size, num_input_pixels))\n",
    "    \n",
    "    tf_weight_hidden = tf.Variable(tf.truncated_normal(shape=(num_input_pixels, 30)))\n",
    "    tf_bias_hidden = tf.Variable(tf.truncated_normal(shape=(30,)))\n",
    "    tf_hidden_layer = tf.matmul(tf_input_layer, tf_weight_hidden) + tf_bias_hidden\n",
    "    tf_hidden_act = tf.sigmoid(tf_hidden_layer)\n",
    "    \n",
    "    tf_weight_output = tf.Variable(tf.truncated_normal(shape=(30, 10)))\n",
    "    tf_bias_output = tf.Variable(tf.truncated_normal(shape=(10,)))\n",
    "    tf_logits = tf.matmul(tf_hidden_act, tf_weight_output)\n",
    "    \n",
    "    tf_output_label = tf.placeholder(dtype=tf.float32, shape=(mini_batch_size, num_class))\n",
    "    loss = tf.reduce_mean(tf.nn.sigmoid_cross_entropy_with_logits(tf_logits, tf_output_label))\n",
    "    \n",
    "    tf_test_dataset = tf.constant(test_dataset)\n",
    "    tf_test_hidden_layer = tf.matmul(tf_test_dataset, tf_weight_hidden) + tf_bias_hidden\n",
    "    tf_test_hidden_act = tf.sigmoid(tf_test_hidden_layer)\n",
    "    tf_test_logits = tf.matmul(tf_test_hidden_act, tf_weight_output) + tf_bias_output\n",
    "    tf_test_output = tf.sigmoid(tf_test_logits)\n",
    "    \n",
    "    optimizer = tf.train.GradientDescentOptimizer(2.0).minimize(loss)"
   ]
  },
  {
   "cell_type": "code",
   "execution_count": 45,
   "metadata": {
    "collapsed": true
   },
   "outputs": [],
   "source": [
    "def accuracy(predict, target):\n",
    "    N = predict.shape[0]\n",
    "    correct_count = np.sum(np.argmax(predict, 1) == np.argmax(target, 1))\n",
    "    return 100.0 * correct_count / N"
   ]
  },
  {
   "cell_type": "code",
   "execution_count": 46,
   "metadata": {
    "collapsed": false
   },
   "outputs": [
    {
     "name": "stdout",
     "output_type": "stream",
     "text": [
      "all variables initialized\n",
      "accuracy (train, batch): 100.0%\n",
      "accuracy (test): 40.08%\n",
      "Iteraion 100, loss 0.27322024107\n",
      "accuracy (train, batch): 100.0%\n",
      "accuracy (test): 55.88%\n",
      "Iteraion 200, loss 0.222522750497\n",
      "accuracy (train, batch): 100.0%\n",
      "accuracy (test): 63.82%\n",
      "Iteraion 300, loss 0.200016960502\n",
      "accuracy (train, batch): 100.0%\n",
      "accuracy (test): 67.85%\n",
      "Iteraion 400, loss 0.186012506485\n",
      "accuracy (train, batch): 100.0%\n",
      "accuracy (test): 71.13%\n",
      "Iteraion 500, loss 0.179791390896\n",
      "accuracy (train, batch): 100.0%\n",
      "accuracy (test): 73.31%\n",
      "Iteraion 600, loss 0.168522119522\n",
      "accuracy (train, batch): 100.0%\n",
      "accuracy (test): 74.99%\n",
      "Iteraion 700, loss 0.159553557634\n",
      "accuracy (train, batch): 100.0%\n",
      "accuracy (test): 76.34%\n",
      "Iteraion 800, loss 0.152389198542\n",
      "accuracy (train, batch): 100.0%\n",
      "accuracy (test): 77.37%\n",
      "Iteraion 900, loss 0.154616519809\n",
      "accuracy (train, batch): 100.0%\n",
      "accuracy (test): 78.04%\n",
      "Iteraion 1000, loss 0.154568463564\n",
      "accuracy (train, batch): 100.0%\n",
      "accuracy (test): 78.64%\n",
      "Iteraion 1100, loss 0.149099677801\n",
      "accuracy (train, batch): 100.0%\n",
      "accuracy (test): 79.25%\n",
      "Iteraion 1200, loss 0.143325254321\n",
      "accuracy (train, batch): 100.0%\n",
      "accuracy (test): 79.79%\n",
      "Iteraion 1300, loss 0.146479070187\n",
      "accuracy (train, batch): 100.0%\n",
      "accuracy (test): 80.22%\n",
      "Iteraion 1400, loss 0.140903577209\n",
      "accuracy (train, batch): 100.0%\n",
      "accuracy (test): 80.61%\n",
      "Iteraion 1500, loss 0.145681872964\n",
      "accuracy (train, batch): 100.0%\n",
      "accuracy (test): 81.05%\n",
      "Iteraion 1600, loss 0.141396582127\n",
      "accuracy (train, batch): 100.0%\n",
      "accuracy (test): 81.37%\n",
      "Iteraion 1700, loss 0.138795673847\n",
      "accuracy (train, batch): 100.0%\n",
      "accuracy (test): 81.78%\n",
      "Iteraion 1800, loss 0.140928938985\n",
      "accuracy (train, batch): 100.0%\n",
      "accuracy (test): 82.07%\n",
      "Iteraion 1900, loss 0.137599050999\n",
      "accuracy (train, batch): 100.0%\n",
      "accuracy (test): 82.26%\n",
      "Iteraion 2000, loss 0.135928228498\n",
      "accuracy (train, batch): 100.0%\n",
      "accuracy (test): 82.5%\n",
      "Iteraion 2100, loss 0.135340198874\n",
      "accuracy (train, batch): 100.0%\n",
      "accuracy (test): 82.74%\n",
      "Iteraion 2200, loss 0.135209053755\n",
      "accuracy (train, batch): 100.0%\n",
      "accuracy (test): 82.77%\n",
      "Iteraion 2300, loss 0.136665403843\n",
      "accuracy (train, batch): 100.0%\n",
      "accuracy (test): 82.96%\n",
      "Iteraion 2400, loss 0.129282817245\n",
      "accuracy (train, batch): 100.0%\n",
      "accuracy (test): 83.11%\n",
      "Iteraion 2500, loss 0.134645968676\n",
      "accuracy (train, batch): 100.0%\n",
      "accuracy (test): 83.24%\n",
      "Iteraion 2600, loss 0.129807114601\n",
      "accuracy (train, batch): 100.0%\n",
      "accuracy (test): 83.34%\n",
      "Iteraion 2700, loss 0.13148099184\n",
      "accuracy (train, batch): 100.0%\n",
      "accuracy (test): 83.51%\n",
      "Iteraion 2800, loss 0.135127618909\n",
      "accuracy (train, batch): 100.0%\n",
      "accuracy (test): 83.68%\n",
      "Iteraion 2900, loss 0.128010302782\n",
      "accuracy (train, batch): 100.0%\n",
      "accuracy (test): 83.78%\n",
      "Iteraion 3000, loss 0.123955771327\n",
      "accuracy (train, batch): 100.0%\n",
      "accuracy (test): 83.85%\n",
      "Iteraion 3100, loss 0.127639845014\n",
      "accuracy (train, batch): 100.0%\n",
      "accuracy (test): 83.99%\n",
      "Iteraion 3200, loss 0.127807870507\n",
      "accuracy (train, batch): 100.0%\n",
      "accuracy (test): 84.07%\n",
      "Iteraion 3300, loss 0.124411985278\n",
      "accuracy (train, batch): 100.0%\n",
      "accuracy (test): 84.16%\n",
      "Iteraion 3400, loss 0.131406500936\n",
      "accuracy (train, batch): 100.0%\n",
      "accuracy (test): 84.3%\n",
      "Iteraion 3500, loss 0.12372803688\n",
      "accuracy (train, batch): 100.0%\n",
      "accuracy (test): 84.4%\n",
      "Iteraion 3600, loss 0.12517170608\n",
      "accuracy (train, batch): 100.0%\n",
      "accuracy (test): 84.38%\n",
      "Iteraion 3700, loss 0.122828699648\n",
      "accuracy (train, batch): 100.0%\n",
      "accuracy (test): 84.43%\n",
      "Iteraion 3800, loss 0.127736926079\n",
      "accuracy (train, batch): 100.0%\n",
      "accuracy (test): 84.64%\n",
      "Iteraion 3900, loss 0.128042414784\n",
      "accuracy (train, batch): 100.0%\n",
      "accuracy (test): 84.68%\n",
      "Iteraion 4000, loss 0.125585258007\n"
     ]
    }
   ],
   "source": [
    "num_iteration = 4001\n",
    "N_train = train_dataset.shape[0]\n",
    "with tf.Session(graph=graph_notMINST) as session:\n",
    "    tf.global_variables_initializer().run()\n",
    "    print(\"all variables initialized\")\n",
    "    for i in range(num_iteration):\n",
    "        random_indices = np.random.choice(N_train, mini_batch_size)\n",
    "        train_batch_data = train_dataset[random_indices]\n",
    "        train_batch_label = train_labels[random_indices]\n",
    "        feed_dict = {tf_input_layer:train_batch_data,\n",
    "                     tf_output_label:train_batch_label}\n",
    "        \n",
    "        if (i+1) % 100 == 0:\n",
    "            _, l, o, predict_test = session.run([optimizer, loss, tf_output_label, tf_test_output], feed_dict=feed_dict)\n",
    "            print(\"accuracy (train, batch): {}%\".format(accuracy(o, train_batch_label)))\n",
    "            print(\"accuracy (test): {}%\".format(accuracy(predict_test, test_labels)))\n",
    "            print(\"Iteraion {}, loss {}\".format(i+1, l))\n",
    "        else:\n",
    "            _, l, o = session.run([optimizer, loss, tf_output_label], feed_dict=feed_dict)"
   ]
  },
  {
   "cell_type": "code",
   "execution_count": null,
   "metadata": {
    "collapsed": true
   },
   "outputs": [],
   "source": []
  }
 ],
 "metadata": {
  "kernelspec": {
   "display_name": "Python 2",
   "language": "python",
   "name": "python2"
  },
  "language_info": {
   "codemirror_mode": {
    "name": "ipython",
    "version": 2
   },
   "file_extension": ".py",
   "mimetype": "text/x-python",
   "name": "python",
   "nbconvert_exporter": "python",
   "pygments_lexer": "ipython2",
   "version": "2.7.13"
  }
 },
 "nbformat": 4,
 "nbformat_minor": 2
}
